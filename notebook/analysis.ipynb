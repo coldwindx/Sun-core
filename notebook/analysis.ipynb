{
 "cells": [
  {
   "cell_type": "code",
   "execution_count": 9,
   "metadata": {},
   "outputs": [
    {
     "data": {
      "text/html": [
       "<style type='text/css'>\n",
       ".datatable table.frame { margin-bottom: 0; }\n",
       ".datatable table.frame thead { border-bottom: none; }\n",
       ".datatable table.frame tr.coltypes td {  color: #FFFFFF;  line-height: 6px;  padding: 0 0.5em;}\n",
       ".datatable .bool    { background: #DDDD99; }\n",
       ".datatable .object  { background: #565656; }\n",
       ".datatable .int     { background: #5D9E5D; }\n",
       ".datatable .float   { background: #4040CC; }\n",
       ".datatable .str     { background: #CC4040; }\n",
       ".datatable .time    { background: #40CC40; }\n",
       ".datatable .row_index {  background: var(--jp-border-color3);  border-right: 1px solid var(--jp-border-color0);  color: var(--jp-ui-font-color3);  font-size: 9px;}\n",
       ".datatable .frame tbody td { text-align: left; }\n",
       ".datatable .frame tr.coltypes .row_index {  background: var(--jp-border-color0);}\n",
       ".datatable th:nth-child(2) { padding-left: 12px; }\n",
       ".datatable .hellipsis {  color: var(--jp-cell-editor-border-color);}\n",
       ".datatable .vellipsis {  background: var(--jp-layout-color0);  color: var(--jp-cell-editor-border-color);}\n",
       ".datatable .na {  color: var(--jp-cell-editor-border-color);  font-size: 80%;}\n",
       ".datatable .sp {  opacity: 0.25;}\n",
       ".datatable .footer { font-size: 9px; }\n",
       ".datatable .frame_dimensions {  background: var(--jp-border-color3);  border-top: 1px solid var(--jp-border-color0);  color: var(--jp-ui-font-color3);  display: inline-block;  opacity: 0.6;  padding: 1px 10px 1px 5px;}\n",
       "</style>\n"
      ],
      "text/plain": [
       "<IPython.core.display.HTML object>"
      ]
     },
     "metadata": {},
     "output_type": "display_data"
    }
   ],
   "source": [
    "import pandas as pd\n",
    "import datatable as dt\n",
    "import json"
   ]
  },
  {
   "cell_type": "code",
   "execution_count": 7,
   "metadata": {},
   "outputs": [],
   "source": [
    "ANALYPATH = \"/home/zhulin/workspace/Sun-core/tmp/analy.json\"\n",
    "TESTPATH = \"/home/zhulin/datasets/cdatasets.test.5.csv\""
   ]
  },
  {
   "cell_type": "code",
   "execution_count": 10,
   "metadata": {},
   "outputs": [
    {
     "name": "stdout",
     "output_type": "stream",
     "text": [
      "CPU times: user 39.7 s, sys: 12 s, total: 51.7 s\n",
      "Wall time: 6.07 s\n"
     ]
    }
   ],
   "source": [
    "indexes = json.load(open(ANALYPATH, \"r\"))\n",
    "df = dt.fread(TESTPATH).to_pandas()"
   ]
  },
  {
   "cell_type": "code",
   "execution_count": 11,
   "metadata": {},
   "outputs": [
    {
     "name": "stdout",
     "output_type": "stream",
     "text": [
      "The size of all test dataset is:  2332558\n",
      "The size of fp test dataset is:  76840\n"
     ]
    }
   ],
   "source": [
    "print(\"The size of all test dataset is: \", len(df))\n",
    "tdf = df.iloc[indexes]\n",
    "print(\"The size of fp test dataset is: \", len(tdf))"
   ]
  },
  {
   "cell_type": "code",
   "execution_count": 23,
   "metadata": {},
   "outputs": [
    {
     "data": {
      "text/plain": [
       "index\n",
       "z_aiqiyi                             19116\n",
       "k81fc90c9f339042edc419e0a62a03e17    13223\n",
       "z_360software                        10489\n",
       "z_hengxingbofangqi                    5362\n",
       "z_office_installer                    3516\n",
       "                                     ...  \n",
       "kb572a0486274ee9c0ba816c1b91b87c7       14\n",
       "k2bbff2111232d73a93cd435300d0a07e       12\n",
       "k80d2cfccef17caa46226147c1b0648e6        9\n",
       "k2bbb2d9be1a993a8dfef0dd719c589a0        8\n",
       "k0880430c257ce49d7490099d2a8dd01a        4\n",
       "Length: 64, dtype: int64"
      ]
     },
     "execution_count": 23,
     "metadata": {},
     "output_type": "execute_result"
    }
   ],
   "source": [
    "# check label\n",
    "a = tdf[tdf[\"label\"] == False].groupby(\"index\").size()\n",
    "a = a.sort_values(ascending=False)\n",
    "a"
   ]
  },
  {
   "cell_type": "code",
   "execution_count": 26,
   "metadata": {},
   "outputs": [
    {
     "data": {
      "text/plain": [
       "2042886    FileIOFileCreate C:\\Program Files (x86)\\IQIYI Video\\LStyle\\9.2.152.5700\\Pingback.dll FileIORead ...\n",
       "2042935    FileIORead C:\\Program Files (x86)\\IQIYI Video\\LStyle\\9.2.152.5700\\skin\\xfind.zip FileIORead C:\\P...\n",
       "2042990    FileIORead C:\\Program Files (x86)\\IQIYI Video\\LStyle\\9.2.152.5700\\Pingback.dll FileIORead C:\\Pro...\n",
       "2043050    FileIORead C:\\Program Files (x86)\\IQIYI Video\\LStyle\\9.2.152.5700\\skin\\xfind.zip FileIOCreate  F...\n",
       "2043091    FileIORead C:\\Program Files (x86)\\IQIYI Video\\LStyle\\9.2.152.5700\\Pingback.dll FileIOCreate  Fil...\n",
       "                                                          ...                                                 \n",
       "2102162    CallStack StringFromCLSID PssWalkSnapshot PssWalkSnapshot PssWalkSnapshot PssWalkSnapshot  CallS...\n",
       "2102163    CallStack StringFromCLSID PssWalkSnapshot PssWalkSnapshot PssWalkSnapshot PssWalkSnapshot  CallS...\n",
       "2102164    CallStack StringFromCLSID PssWalkSnapshot PssWalkSnapshot PssWalkSnapshot PssWalkSnapshot  CallS...\n",
       "2102165    CallStack StringFromCLSID PssWalkSnapshot PssWalkSnapshot PssWalkSnapshot PssWalkSnapshot  CallS...\n",
       "2102195    FileIOCleanup C:\\Windows\\System32\\DriverStore\\FileRepository\\ FileIOClose C:\\Windows\\System32\\Dr...\n",
       "Name: channel, Length: 19116, dtype: object"
      ]
     },
     "execution_count": 26,
     "metadata": {},
     "output_type": "execute_result"
    }
   ],
   "source": [
    "b = tdf[tdf['index'] == 'z_aiqiyi']\n",
    "pd.set_option('max_colwidth',100)\n",
    "b[\"channel\"]"
   ]
  },
  {
   "cell_type": "code",
   "execution_count": 27,
   "metadata": {},
   "outputs": [
    {
     "name": "stderr",
     "output_type": "stream",
     "text": [
      "/home/zhulin/anaconda3/envs/torch/lib/python3.8/site-packages/tqdm/auto.py:21: TqdmWarning: IProgress not found. Please update jupyter and ipywidgets. See https://ipywidgets.readthedocs.io/en/stable/user_install.html\n",
      "  from .autonotebook import tqdm as notebook_tqdm\n"
     ]
    }
   ],
   "source": [
    "from transformers import AutoTokenizer\n",
    "VOCAB = \"/home/zhulin/pretrain/bert_pretrain_uncased/\"\n",
    "tokenizer = AutoTokenizer.from_pretrained(VOCAB)"
   ]
  },
  {
   "cell_type": "code",
   "execution_count": 32,
   "metadata": {},
   "outputs": [
    {
     "name": "stdout",
     "output_type": "stream",
     "text": [
      "Input:  FileIOFileCreate C:\\Program Files (x86)\\IQIYI Video\\LStyle\\9.2.152.5700\\Pingback.dll FileIORead C:\\Program Files (x86)\\IQIYI Video\\LStyle\\9.2.152.5700\\Pingback.dll FileIORead C:\\Program Files (x86)\\IQIYI Video\\LStyle\\9.2.152.5700\\Pingback.dll FileIORead C:\\Program Files (x86)\\IQIYI Video\\LStyle\\9.2.152.5700\\skin\\xfind.zip FileIORead C:\\Program Files (x86)\\IQIYI Video\\LStyle\\9.2.152.5700\\skin\\xfind.zip FileIORead C:\\Program Files (x86)\\IQIYI Video\\LStyle\\9.2.152.5700\\skin\\xfind.zip FileIORead C:\\Program Files (x86)\\IQIYI Video\\LStyle\\9.2.152.5700\\skin\\xfind.zip FileIORead C:\\Program Files (x86)\\IQIYI Video\\LStyle\\9.2.152.5700\\skin\\xfind.zip\n",
      "['file', '##io', '##fi', '##le', '##cre', '##ate', 'c', ':', '\\\\', 'program', 'files', '(', 'x', '##86', ')', '\\\\', 'iq', '##iy', '##i', 'video', '\\\\', 'l', '##sty', '##le', '\\\\', '9', '.', '2', '.', '152', '.', '570', '##0', '\\\\', 'ping', '##back', '.', 'dl', '##l', 'file', '##ior', '##ead', 'c', ':', '\\\\', 'program', 'files', '(', 'x', '##86', ')', '\\\\', 'iq', '##iy', '##i', 'video', '\\\\', 'l', '##sty', '##le', '\\\\', '9', '.', '2', '.', '152', '.', '570', '##0', '\\\\', 'ping', '##back', '.', 'dl', '##l', 'file', '##ior', '##ead', 'c', ':', '\\\\', 'program', 'files', '(', 'x', '##86', ')', '\\\\', 'iq', '##iy', '##i', 'video', '\\\\', 'l', '##sty', '##le', '\\\\', '9', '.', '2', '.', '152', '.', '570', '##0', '\\\\', 'ping', '##back', '.', 'dl', '##l', 'file', '##ior', '##ead', 'c', ':', '\\\\', 'program', 'files', '(', 'x', '##86', ')', '\\\\', 'iq', '##iy', '##i', 'video', '\\\\', 'l', '##sty', '##le', '\\\\', '9', '.', '2', '.', '152', '.', '570', '##0', '\\\\', 'skin', '\\\\', 'x', '##fin', '##d', '.', 'zip', 'file', '##ior', '##ead', 'c', ':', '\\\\', 'program', 'files', '(', 'x', '##86', ')', '\\\\', 'iq', '##iy', '##i', 'video', '\\\\', 'l', '##sty', '##le', '\\\\', '9', '.', '2', '.', '152', '.', '570', '##0', '\\\\', 'skin', '\\\\', 'x', '##fin', '##d', '.', 'zip', 'file', '##ior', '##ead', 'c', ':', '\\\\', 'program', 'files', '(', 'x', '##86', ')', '\\\\', 'iq', '##iy', '##i', 'video', '\\\\', 'l', '##sty', '##le', '\\\\', '9', '.', '2', '.', '152', '.', '570', '##0', '\\\\', 'skin', '\\\\', 'x', '##fin', '##d', '.', 'zip', 'file', '##ior', '##ead', 'c', ':', '\\\\', 'program', 'files', '(', 'x', '##86', ')', '\\\\', 'iq', '##iy', '##i', 'video', '\\\\', 'l', '##sty', '##le', '\\\\', '9', '.', '2', '.', '152', '.', '570', '##0', '\\\\', 'skin', '\\\\', 'x', '##fin', '##d', '.', 'zip', 'file', '##ior', '##ead', 'c', ':', '\\\\', 'program', 'files', '(', 'x', '##86', ')', '\\\\', 'iq', '##iy', '##i', 'video', '\\\\', 'l', '##sty', '##le', '\\\\', '9', '.', '2', '.', '152', '.', '570', '##0', '\\\\', 'skin', '\\\\', 'x', '##fin', '##d', '.', 'zip']\n"
     ]
    }
   ],
   "source": [
    "print(\"Input: \", b[\"channel\"].tolist()[0])\n",
    "bo = tokenizer.tokenize(b[\"channel\"].tolist()[0])\n",
    "print(bo)"
   ]
  }
 ],
 "metadata": {
  "kernelspec": {
   "display_name": "torch",
   "language": "python",
   "name": "python3"
  },
  "language_info": {
   "codemirror_mode": {
    "name": "ipython",
    "version": 3
   },
   "file_extension": ".py",
   "mimetype": "text/x-python",
   "name": "python",
   "nbconvert_exporter": "python",
   "pygments_lexer": "ipython3",
   "version": "3.8.10"
  }
 },
 "nbformat": 4,
 "nbformat_minor": 2
}
