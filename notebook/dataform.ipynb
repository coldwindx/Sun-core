{
 "cells": [
  {
   "cell_type": "code",
   "execution_count": 6,
   "metadata": {},
   "outputs": [],
   "source": [
    "import json\n",
    "import pandas as pd"
   ]
  },
  {
   "cell_type": "code",
   "execution_count": 7,
   "metadata": {},
   "outputs": [],
   "source": [
    "DATAPATH = \"/home/zhulin/datasets/cdatasets.train.5.json\"\n",
    "TODATAPATH = \"/home/zhulin/datasets/cdatasets.train.5.csv\""
   ]
  },
  {
   "cell_type": "code",
   "execution_count": 9,
   "metadata": {},
   "outputs": [
    {
     "data": {
      "text/html": [
       "<div>\n",
       "<style scoped>\n",
       "    .dataframe tbody tr th:only-of-type {\n",
       "        vertical-align: middle;\n",
       "    }\n",
       "\n",
       "    .dataframe tbody tr th {\n",
       "        vertical-align: top;\n",
       "    }\n",
       "\n",
       "    .dataframe thead th {\n",
       "        text-align: right;\n",
       "    }\n",
       "</style>\n",
       "<table border=\"1\" class=\"dataframe\">\n",
       "  <thead>\n",
       "    <tr style=\"text-align: right;\">\n",
       "      <th></th>\n",
       "      <th>channel</th>\n",
       "      <th>index</th>\n",
       "      <th>label</th>\n",
       "      <th>pid</th>\n",
       "      <th>pname</th>\n",
       "      <th>unique_key</th>\n",
       "    </tr>\n",
       "  </thead>\n",
       "  <tbody>\n",
       "    <tr>\n",
       "      <th>0</th>\n",
       "      <td>RegistryOpen \\Registry\\Machine\\Software\\Polic...</td>\n",
       "      <td>kad29f77ee86ed9827158347befa8998d</td>\n",
       "      <td>0</td>\n",
       "      <td>2868</td>\n",
       "      <td>explorer.exe</td>\n",
       "      <td>-1</td>\n",
       "    </tr>\n",
       "    <tr>\n",
       "      <th>1</th>\n",
       "      <td>FileIORead C:\\Users\\Administrator\\AppData\\Roa...</td>\n",
       "      <td>kad29f77ee86ed9827158347befa8998d</td>\n",
       "      <td>0</td>\n",
       "      <td>2868</td>\n",
       "      <td>explorer.exe</td>\n",
       "      <td>-1</td>\n",
       "    </tr>\n",
       "    <tr>\n",
       "      <th>2</th>\n",
       "      <td>RegistryQueryValue DisplayVersion RegistryOpe...</td>\n",
       "      <td>kad29f77ee86ed9827158347befa8998d</td>\n",
       "      <td>0</td>\n",
       "      <td>2868</td>\n",
       "      <td>explorer.exe</td>\n",
       "      <td>-1</td>\n",
       "    </tr>\n",
       "    <tr>\n",
       "      <th>3</th>\n",
       "      <td>RegistryOpen \\REGISTRY\\USER\\S-1-5-21-20596033...</td>\n",
       "      <td>kad29f77ee86ed9827158347befa8998d</td>\n",
       "      <td>0</td>\n",
       "      <td>2868</td>\n",
       "      <td>explorer.exe</td>\n",
       "      <td>-1</td>\n",
       "    </tr>\n",
       "    <tr>\n",
       "      <th>4</th>\n",
       "      <td>RegistryOpen Control Panel\\Desktop RegistryQu...</td>\n",
       "      <td>kad29f77ee86ed9827158347befa8998d</td>\n",
       "      <td>0</td>\n",
       "      <td>2868</td>\n",
       "      <td>explorer.exe</td>\n",
       "      <td>-1</td>\n",
       "    </tr>\n",
       "    <tr>\n",
       "      <th>5</th>\n",
       "      <td>RegistryQuery Control Panel\\Desktop RegistryO...</td>\n",
       "      <td>kad29f77ee86ed9827158347befa8998d</td>\n",
       "      <td>0</td>\n",
       "      <td>2868</td>\n",
       "      <td>explorer.exe</td>\n",
       "      <td>-1</td>\n",
       "    </tr>\n",
       "    <tr>\n",
       "      <th>6</th>\n",
       "      <td>RegistryOpen \\Registry\\Machine\\SOFTWARE\\Micro...</td>\n",
       "      <td>kad29f77ee86ed9827158347befa8998d</td>\n",
       "      <td>0</td>\n",
       "      <td>2868</td>\n",
       "      <td>explorer.exe</td>\n",
       "      <td>-1</td>\n",
       "    </tr>\n",
       "    <tr>\n",
       "      <th>7</th>\n",
       "      <td>RegistryOpen \\Registry\\User\\S-1-5-21-20596033...</td>\n",
       "      <td>kad29f77ee86ed9827158347befa8998d</td>\n",
       "      <td>0</td>\n",
       "      <td>2912</td>\n",
       "      <td>ChsIME.exe</td>\n",
       "      <td>-1</td>\n",
       "    </tr>\n",
       "    <tr>\n",
       "      <th>8</th>\n",
       "      <td>RegistryOpen \\Registry\\User\\S-1-5-21-20596033...</td>\n",
       "      <td>kad29f77ee86ed9827158347befa8998d</td>\n",
       "      <td>0</td>\n",
       "      <td>2912</td>\n",
       "      <td>ChsIME.exe</td>\n",
       "      <td>-1</td>\n",
       "    </tr>\n",
       "    <tr>\n",
       "      <th>9</th>\n",
       "      <td>RegistryQueryValue {1NP14R77-02R7-4R5Q-O744-2...</td>\n",
       "      <td>kad29f77ee86ed9827158347befa8998d</td>\n",
       "      <td>0</td>\n",
       "      <td>2868</td>\n",
       "      <td>explorer.exe</td>\n",
       "      <td>-1</td>\n",
       "    </tr>\n",
       "  </tbody>\n",
       "</table>\n",
       "</div>"
      ],
      "text/plain": [
       "                                             channel  \\\n",
       "0   RegistryOpen \\Registry\\Machine\\Software\\Polic...   \n",
       "1   FileIORead C:\\Users\\Administrator\\AppData\\Roa...   \n",
       "2   RegistryQueryValue DisplayVersion RegistryOpe...   \n",
       "3   RegistryOpen \\REGISTRY\\USER\\S-1-5-21-20596033...   \n",
       "4   RegistryOpen Control Panel\\Desktop RegistryQu...   \n",
       "5   RegistryQuery Control Panel\\Desktop RegistryO...   \n",
       "6   RegistryOpen \\Registry\\Machine\\SOFTWARE\\Micro...   \n",
       "7   RegistryOpen \\Registry\\User\\S-1-5-21-20596033...   \n",
       "8   RegistryOpen \\Registry\\User\\S-1-5-21-20596033...   \n",
       "9   RegistryQueryValue {1NP14R77-02R7-4R5Q-O744-2...   \n",
       "\n",
       "                               index  label   pid         pname  unique_key  \n",
       "0  kad29f77ee86ed9827158347befa8998d      0  2868  explorer.exe          -1  \n",
       "1  kad29f77ee86ed9827158347befa8998d      0  2868  explorer.exe          -1  \n",
       "2  kad29f77ee86ed9827158347befa8998d      0  2868  explorer.exe          -1  \n",
       "3  kad29f77ee86ed9827158347befa8998d      0  2868  explorer.exe          -1  \n",
       "4  kad29f77ee86ed9827158347befa8998d      0  2868  explorer.exe          -1  \n",
       "5  kad29f77ee86ed9827158347befa8998d      0  2868  explorer.exe          -1  \n",
       "6  kad29f77ee86ed9827158347befa8998d      0  2868  explorer.exe          -1  \n",
       "7  kad29f77ee86ed9827158347befa8998d      0  2912    ChsIME.exe          -1  \n",
       "8  kad29f77ee86ed9827158347befa8998d      0  2912    ChsIME.exe          -1  \n",
       "9  kad29f77ee86ed9827158347befa8998d      0  2868  explorer.exe          -1  "
      ]
     },
     "execution_count": 9,
     "metadata": {},
     "output_type": "execute_result"
    }
   ],
   "source": [
    "\n",
    "with open(DATAPATH, \"r\") as f:\n",
    "    df = pd.DataFrame([json.loads(data) for data in f.readlines()])\n",
    "df.head(10)\n"
   ]
  },
  {
   "cell_type": "code",
   "execution_count": 10,
   "metadata": {},
   "outputs": [
    {
     "name": "stdout",
     "output_type": "stream",
     "text": [
      "列 'channel' 中有 0 个空字符串\n",
      "列 'index' 中有 0 个空字符串\n",
      "列 'label' 中有 0 个空字符串\n",
      "列 'pid' 中有 0 个空字符串\n",
      "列 'pname' 中有 0 个空字符串\n",
      "列 'unique_key' 中有 0 个空字符串\n"
     ]
    }
   ],
   "source": [
    "# check dataset has Nan/Null\n",
    "for column in df.columns:\n",
    "    check = df[column].isnull() | df[column].eq('')\n",
    "    print(f\"列 '{column}' 中有 {check.sum()} 个空字符串\")"
   ]
  },
  {
   "cell_type": "code",
   "execution_count": 11,
   "metadata": {},
   "outputs": [],
   "source": [
    "df.to_csv(TODATAPATH)"
   ]
  }
 ],
 "metadata": {
  "kernelspec": {
   "display_name": "torch",
   "language": "python",
   "name": "python3"
  },
  "language_info": {
   "codemirror_mode": {
    "name": "ipython",
    "version": 3
   },
   "file_extension": ".py",
   "mimetype": "text/x-python",
   "name": "python",
   "nbconvert_exporter": "python",
   "pygments_lexer": "ipython3",
   "version": "3.8.undefined"
  }
 },
 "nbformat": 4,
 "nbformat_minor": 2
}
