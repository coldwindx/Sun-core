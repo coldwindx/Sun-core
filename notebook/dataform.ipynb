{
 "cells": [
  {
   "cell_type": "code",
   "execution_count": 1,
   "metadata": {},
   "outputs": [],
   "source": [
    "import json\n",
    "import pandas as pd"
   ]
  },
  {
   "cell_type": "code",
   "execution_count": 2,
   "metadata": {},
   "outputs": [],
   "source": [
    "DATAPATH = \"/home/zhulin/datasets/cdatasets.train.5.json\"\n",
    "TODATAPATH = \"/home/zhulin/datasets/cdatasets.train.5.csv\""
   ]
  },
  {
   "cell_type": "code",
   "execution_count": 3,
   "metadata": {},
   "outputs": [
    {
     "data": {
      "text/html": [
       "<div>\n",
       "<style scoped>\n",
       "    .dataframe tbody tr th:only-of-type {\n",
       "        vertical-align: middle;\n",
       "    }\n",
       "\n",
       "    .dataframe tbody tr th {\n",
       "        vertical-align: top;\n",
       "    }\n",
       "\n",
       "    .dataframe thead th {\n",
       "        text-align: right;\n",
       "    }\n",
       "</style>\n",
       "<table border=\"1\" class=\"dataframe\">\n",
       "  <thead>\n",
       "    <tr style=\"text-align: right;\">\n",
       "      <th></th>\n",
       "      <th>channel</th>\n",
       "      <th>index</th>\n",
       "      <th>label</th>\n",
       "      <th>pid</th>\n",
       "      <th>pname</th>\n",
       "      <th>unique_key</th>\n",
       "    </tr>\n",
       "  </thead>\n",
       "  <tbody>\n",
       "    <tr>\n",
       "      <th>0</th>\n",
       "      <td>ThreadEnd 632 RegistrySetValue {1NP14R77-02R7...</td>\n",
       "      <td>k4a6e3d45e11bae69b64fc879400fcdb6</td>\n",
       "      <td>0</td>\n",
       "      <td>2868</td>\n",
       "      <td>explorer.exe</td>\n",
       "      <td>-1</td>\n",
       "    </tr>\n",
       "    <tr>\n",
       "      <th>1</th>\n",
       "      <td>FileIOCreate  FileIORead C:\\Users\\Administrat...</td>\n",
       "      <td>k4a6e3d45e11bae69b64fc879400fcdb6</td>\n",
       "      <td>0</td>\n",
       "      <td>2868</td>\n",
       "      <td>explorer.exe</td>\n",
       "      <td>-1</td>\n",
       "    </tr>\n",
       "    <tr>\n",
       "      <th>2</th>\n",
       "      <td>RegistryOpen Control Panel\\Desktop RegistryOp...</td>\n",
       "      <td>k4a6e3d45e11bae69b64fc879400fcdb6</td>\n",
       "      <td>0</td>\n",
       "      <td>2868</td>\n",
       "      <td>explorer.exe</td>\n",
       "      <td>-1</td>\n",
       "    </tr>\n",
       "    <tr>\n",
       "      <th>3</th>\n",
       "      <td>RegistryQueryValue PaintDesktopVersion Regist...</td>\n",
       "      <td>k4a6e3d45e11bae69b64fc879400fcdb6</td>\n",
       "      <td>0</td>\n",
       "      <td>2868</td>\n",
       "      <td>explorer.exe</td>\n",
       "      <td>-1</td>\n",
       "    </tr>\n",
       "    <tr>\n",
       "      <th>4</th>\n",
       "      <td>RegistryOpen \\Registry\\Machine\\Software\\Polic...</td>\n",
       "      <td>k4a6e3d45e11bae69b64fc879400fcdb6</td>\n",
       "      <td>0</td>\n",
       "      <td>2868</td>\n",
       "      <td>explorer.exe</td>\n",
       "      <td>-1</td>\n",
       "    </tr>\n",
       "    <tr>\n",
       "      <th>5</th>\n",
       "      <td>RegistryQueryValue CEIPEnable RegistryQueryVa...</td>\n",
       "      <td>k4a6e3d45e11bae69b64fc879400fcdb6</td>\n",
       "      <td>0</td>\n",
       "      <td>2868</td>\n",
       "      <td>explorer.exe</td>\n",
       "      <td>-1</td>\n",
       "    </tr>\n",
       "    <tr>\n",
       "      <th>6</th>\n",
       "      <td>RegistryOpen Software\\Microsoft\\Windows NT\\Cu...</td>\n",
       "      <td>k4a6e3d45e11bae69b64fc879400fcdb6</td>\n",
       "      <td>0</td>\n",
       "      <td>2868</td>\n",
       "      <td>explorer.exe</td>\n",
       "      <td>-1</td>\n",
       "    </tr>\n",
       "    <tr>\n",
       "      <th>7</th>\n",
       "      <td>RegistryQuery Control Panel\\Desktop RegistryO...</td>\n",
       "      <td>k4a6e3d45e11bae69b64fc879400fcdb6</td>\n",
       "      <td>0</td>\n",
       "      <td>2868</td>\n",
       "      <td>explorer.exe</td>\n",
       "      <td>-1</td>\n",
       "    </tr>\n",
       "    <tr>\n",
       "      <th>8</th>\n",
       "      <td>RegistryOpen \\REGISTRY\\USER\\S-1-5-21-20596033...</td>\n",
       "      <td>k4a6e3d45e11bae69b64fc879400fcdb6</td>\n",
       "      <td>0</td>\n",
       "      <td>2868</td>\n",
       "      <td>explorer.exe</td>\n",
       "      <td>-1</td>\n",
       "    </tr>\n",
       "    <tr>\n",
       "      <th>9</th>\n",
       "      <td>RegistryOpen \\Registry\\Machine\\SOFTWARE\\Polic...</td>\n",
       "      <td>k4a6e3d45e11bae69b64fc879400fcdb6</td>\n",
       "      <td>0</td>\n",
       "      <td>2868</td>\n",
       "      <td>explorer.exe</td>\n",
       "      <td>-1</td>\n",
       "    </tr>\n",
       "  </tbody>\n",
       "</table>\n",
       "</div>"
      ],
      "text/plain": [
       "                                             channel  \\\n",
       "0   ThreadEnd 632 RegistrySetValue {1NP14R77-02R7...   \n",
       "1   FileIOCreate  FileIORead C:\\Users\\Administrat...   \n",
       "2   RegistryOpen Control Panel\\Desktop RegistryOp...   \n",
       "3   RegistryQueryValue PaintDesktopVersion Regist...   \n",
       "4   RegistryOpen \\Registry\\Machine\\Software\\Polic...   \n",
       "5   RegistryQueryValue CEIPEnable RegistryQueryVa...   \n",
       "6   RegistryOpen Software\\Microsoft\\Windows NT\\Cu...   \n",
       "7   RegistryQuery Control Panel\\Desktop RegistryO...   \n",
       "8   RegistryOpen \\REGISTRY\\USER\\S-1-5-21-20596033...   \n",
       "9   RegistryOpen \\Registry\\Machine\\SOFTWARE\\Polic...   \n",
       "\n",
       "                               index  label   pid         pname  unique_key  \n",
       "0  k4a6e3d45e11bae69b64fc879400fcdb6      0  2868  explorer.exe          -1  \n",
       "1  k4a6e3d45e11bae69b64fc879400fcdb6      0  2868  explorer.exe          -1  \n",
       "2  k4a6e3d45e11bae69b64fc879400fcdb6      0  2868  explorer.exe          -1  \n",
       "3  k4a6e3d45e11bae69b64fc879400fcdb6      0  2868  explorer.exe          -1  \n",
       "4  k4a6e3d45e11bae69b64fc879400fcdb6      0  2868  explorer.exe          -1  \n",
       "5  k4a6e3d45e11bae69b64fc879400fcdb6      0  2868  explorer.exe          -1  \n",
       "6  k4a6e3d45e11bae69b64fc879400fcdb6      0  2868  explorer.exe          -1  \n",
       "7  k4a6e3d45e11bae69b64fc879400fcdb6      0  2868  explorer.exe          -1  \n",
       "8  k4a6e3d45e11bae69b64fc879400fcdb6      0  2868  explorer.exe          -1  \n",
       "9  k4a6e3d45e11bae69b64fc879400fcdb6      0  2868  explorer.exe          -1  "
      ]
     },
     "execution_count": 3,
     "metadata": {},
     "output_type": "execute_result"
    }
   ],
   "source": [
    "\n",
    "with open(DATAPATH, \"r\") as f:\n",
    "    df = pd.DataFrame([json.loads(data) for data in f.readlines()])\n",
    "df.head(10)\n"
   ]
  },
  {
   "cell_type": "code",
   "execution_count": 4,
   "metadata": {},
   "outputs": [
    {
     "name": "stdout",
     "output_type": "stream",
     "text": [
      "列 'channel' 中有 0 个空字符串\n",
      "列 'index' 中有 0 个空字符串\n",
      "列 'label' 中有 0 个空字符串\n",
      "列 'pid' 中有 0 个空字符串\n",
      "列 'pname' 中有 0 个空字符串\n",
      "列 'unique_key' 中有 0 个空字符串\n"
     ]
    }
   ],
   "source": [
    "# check dataset has Nan/Null\n",
    "for column in df.columns:\n",
    "    check = df[column].isnull() | df[column].eq('')\n",
    "    print(f\"列 '{column}' 中有 {check.sum()} 个空字符串\")"
   ]
  },
  {
   "cell_type": "code",
   "execution_count": 5,
   "metadata": {},
   "outputs": [],
   "source": [
    "df.to_csv(TODATAPATH)"
   ]
  }
 ],
 "metadata": {
  "kernelspec": {
   "display_name": "torch",
   "language": "python",
   "name": "python3"
  },
  "language_info": {
   "codemirror_mode": {
    "name": "ipython",
    "version": 3
   },
   "file_extension": ".py",
   "mimetype": "text/x-python",
   "name": "python",
   "nbconvert_exporter": "python",
   "pygments_lexer": "ipython3",
   "version": "3.8.10"
  }
 },
 "nbformat": 4,
 "nbformat_minor": 2
}
